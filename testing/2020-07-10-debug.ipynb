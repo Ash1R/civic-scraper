{
 "cells": [
  {
   "cell_type": "markdown",
   "metadata": {},
   "source": [
    "# testing civic-scraper"
   ]
  },
  {
   "cell_type": "markdown",
   "metadata": {},
   "source": [
    "## run_scraper.py"
   ]
  },
  {
   "cell_type": "code",
   "execution_count": 1,
   "metadata": {},
   "outputs": [],
   "source": [
    "import civic_scraper\n",
    "from civic_scraper.run_scraper import run_scraper\n",
    "\n",
    "%load_ext autoreload\n",
    "%autoreload 2"
   ]
  },
  {
   "cell_type": "code",
   "execution_count": 2,
   "metadata": {
    "scrolled": false
   },
   "outputs": [
    {
     "name": "stdout",
     "output_type": "stream",
     "text": [
      "Page not found 1\n",
      "Page not found 2\n"
     ]
    },
    {
     "data": {
      "text/plain": [
       "<civic_scraper.document.DocumentList at 0x7fea40b73760>"
      ]
     },
     "execution_count": 2,
     "metadata": {},
     "output_type": "execute_result"
    }
   ],
   "source": [
    "run_scraper_args = {\n",
    "    'scraper_type': 'civicplus',\n",
    "    'endpoint': 'http://pa-westchester2.civicplus.com/AgendaCenter',\n",
    "    'target_path': 'test_target.csv',\n",
    "    'scraper_args': {\"start_date\": \"20150909\", \"end_date\": \"20151014\"},\n",
    "}\n",
    "\n",
    "run_scraper_args = {\n",
    "    'scraper_type': 'granicus',\n",
    "    'endpoint': 'https://marin.granicus.com/ViewPublisher.php?view_id=33',\n",
    "    'target_path': 'test_granicus.csv',\n",
    "    'scraper_args': {\"start_date\": \"20150909\", \"end_date\": \"20151014\"},    \n",
    "}\n",
    "\n",
    "run_scraper(**run_scraper_args)"
   ]
  },
  {
   "cell_type": "code",
   "execution_count": 3,
   "metadata": {},
   "outputs": [
    {
     "name": "stdout",
     "output_type": "stream",
     "text": [
      "> \u001b[0;32m/Users/chris/Dropbox/projects/agendawatch/civic-scraper/civic_scraper/run_scraper.py\u001b[0m(75)\u001b[0;36mrun_scraper\u001b[0;34m()\u001b[0m\n",
      "\u001b[0;32m     73 \u001b[0;31m        \u001b[0mdoc_list\u001b[0m\u001b[0;34m.\u001b[0m\u001b[0mto_csv\u001b[0m\u001b[0;34m(\u001b[0m\u001b[0mtarget_path\u001b[0m\u001b[0;34m)\u001b[0m\u001b[0;34m\u001b[0m\u001b[0;34m\u001b[0m\u001b[0m\n",
      "\u001b[0m\u001b[0;32m     74 \u001b[0;31m    \u001b[0;32mexcept\u001b[0m \u001b[0mException\u001b[0m\u001b[0;34m:\u001b[0m\u001b[0;34m\u001b[0m\u001b[0;34m\u001b[0m\u001b[0m\n",
      "\u001b[0m\u001b[0;32m---> 75 \u001b[0;31m        raise Exception('Unable to write document list to path: '\n",
      "\u001b[0m\u001b[0;32m     76 \u001b[0;31m                        '{}'.format(target_path))\n",
      "\u001b[0m\u001b[0;32m     77 \u001b[0;31m    \u001b[0;32mreturn\u001b[0m \u001b[0mdoc_list\u001b[0m\u001b[0;34m\u001b[0m\u001b[0;34m\u001b[0m\u001b[0m\n",
      "\u001b[0m\n",
      "ipdb> len(doc_list)\n",
      "15\n",
      "ipdb> isinstance(doc_list, list)\n",
      "True\n",
      "ipdb> doc_list[0]\n",
      "{'place': 'westchester2', 'state_or_province': 'pa', 'meeting_date': '10132015', 'meeting_time': None, 'committee_name': None, 'doc_format': 'pdf', 'meeting_id': '10132015-240', 'doc_type': 'Agenda', 'url': 'http://pa-westchester2.civicplus.com/AgendaCenter/ViewFile/Agenda/_10132015-240', 'scraped_by': 'civicplus_v20200709'}\n",
      "ipdb> q\n"
     ]
    }
   ],
   "source": [
    "%debug"
   ]
  },
  {
   "cell_type": "code",
   "execution_count": 3,
   "metadata": {},
   "outputs": [
    {
     "data": {
      "text/plain": [
       "'/Users/chris/Dropbox/projects/agendawatch/civic-scraper/testing'"
      ]
     },
     "execution_count": 3,
     "metadata": {},
     "output_type": "execute_result"
    }
   ],
   "source": [
    "pwd"
   ]
  },
  {
   "cell_type": "code",
   "execution_count": null,
   "metadata": {},
   "outputs": [],
   "source": []
  }
 ],
 "metadata": {
  "kernelspec": {
   "display_name": "civic-scraper",
   "language": "python",
   "name": "civic-scraper"
  },
  "language_info": {
   "codemirror_mode": {
    "name": "ipython",
    "version": 3
   },
   "file_extension": ".py",
   "mimetype": "text/x-python",
   "name": "python",
   "nbconvert_exporter": "python",
   "pygments_lexer": "ipython3",
   "version": "3.8.3"
  }
 },
 "nbformat": 4,
 "nbformat_minor": 2
}
