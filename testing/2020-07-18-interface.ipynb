{
 "cells": [
  {
   "cell_type": "code",
   "execution_count": 1,
   "metadata": {},
   "outputs": [],
   "source": [
    "# importing and running civic-scraper"
   ]
  },
  {
   "cell_type": "code",
   "execution_count": 2,
   "metadata": {},
   "outputs": [],
   "source": [
    "import civic_scraper\n",
    "from civic_scraper.run_scraper import run_scraper\n",
    "from civic_scraper.scrapers import CivicPlusSite\n",
    "\n",
    "%load_ext autoreload\n",
    "%autoreload 2"
   ]
  },
  {
   "cell_type": "code",
   "execution_count": 3,
   "metadata": {},
   "outputs": [],
   "source": [
    "site_args = {\n",
    "    'base_url': 'http://pa-westchester2.civicplus.com/AgendaCenter',    \n",
    "#     'base_url': 'https://www.menlopark.org/agendacenter'\n",
    "}\n",
    "site = CivicPlusSite(**site_args)"
   ]
  },
  {
   "cell_type": "code",
   "execution_count": 4,
   "metadata": {
    "scrolled": false
   },
   "outputs": [
    {
     "name": "stdout",
     "output_type": "stream",
     "text": [
      "The meeting_date is:  2020-01-06\n",
      "The value of meeting_date must be an object of class datetime.date.\n",
      "The value of meeting_time must be an object of class datetime.time.\n",
      "Cannot initialize Asset object. Invalid input.\n",
      "The meeting_date is:  2020-01-13\n",
      "The value of meeting_date must be an object of class datetime.date.\n",
      "The value of meeting_time must be an object of class datetime.time.\n",
      "Cannot initialize Asset object. Invalid input.\n",
      "The meeting_date is:  2020-01-08\n",
      "The value of meeting_date must be an object of class datetime.date.\n",
      "The value of meeting_time must be an object of class datetime.time.\n",
      "Cannot initialize Asset object. Invalid input.\n",
      "Number of sites found: 3\n"
     ]
    }
   ],
   "source": [
    "scrape_args = {\n",
    "    'start_date': '20200101',\n",
    "    'end_date': '20200114',    \n",
    "}\n",
    "metadata = site.scrape(**scrape_args)\n",
    "print('Number of sites found:', len(metadata.assets))"
   ]
  },
  {
   "cell_type": "code",
   "execution_count": 5,
   "metadata": {},
   "outputs": [
    {
     "ename": "AttributeError",
     "evalue": "'Asset' object has no attribute 'place'",
     "output_type": "error",
     "traceback": [
      "\u001b[0;31m---------------------------------------------------------------------------\u001b[0m",
      "\u001b[0;31mAttributeError\u001b[0m                            Traceback (most recent call last)",
      "\u001b[0;32m<ipython-input-5-be131ea2c8ed>\u001b[0m in \u001b[0;36m<module>\u001b[0;34m\u001b[0m\n\u001b[0;32m----> 1\u001b[0;31m \u001b[0mmetadata\u001b[0m\u001b[0;34m.\u001b[0m\u001b[0mto_csv\u001b[0m\u001b[0;34m(\u001b[0m\u001b[0mtarget_path\u001b[0m\u001b[0;34m=\u001b[0m\u001b[0;34m'test_output.csv'\u001b[0m\u001b[0;34m,\u001b[0m \u001b[0mappending\u001b[0m\u001b[0;34m=\u001b[0m\u001b[0;32mFalse\u001b[0m\u001b[0;34m)\u001b[0m\u001b[0;34m\u001b[0m\u001b[0;34m\u001b[0m\u001b[0m\n\u001b[0m",
      "\u001b[0;32m~/Dropbox/projects/agendawatch/civic-scraper/civic_scraper/asset.py\u001b[0m in \u001b[0;36mto_csv\u001b[0;34m(self, target_path, target_dir, appending)\u001b[0m\n\u001b[1;32m    273\u001b[0m         \u001b[0;32mfor\u001b[0m \u001b[0mi\u001b[0m\u001b[0;34m,\u001b[0m \u001b[0masset\u001b[0m \u001b[0;32min\u001b[0m \u001b[0menumerate\u001b[0m\u001b[0;34m(\u001b[0m\u001b[0mself\u001b[0m\u001b[0;34m.\u001b[0m\u001b[0massets\u001b[0m\u001b[0;34m)\u001b[0m\u001b[0;34m:\u001b[0m\u001b[0;34m\u001b[0m\u001b[0;34m\u001b[0m\u001b[0m\n\u001b[1;32m    274\u001b[0m             \u001b[0mwrite_header\u001b[0m \u001b[0;34m=\u001b[0m \u001b[0;34m(\u001b[0m\u001b[0mi\u001b[0m \u001b[0;34m==\u001b[0m \u001b[0;36m0\u001b[0m\u001b[0;34m)\u001b[0m \u001b[0;32mand\u001b[0m \u001b[0mnew_file\u001b[0m\u001b[0;34m\u001b[0m\u001b[0;34m\u001b[0m\u001b[0m\n\u001b[0;32m--> 275\u001b[0;31m             \u001b[0masset\u001b[0m\u001b[0;34m.\u001b[0m\u001b[0mappend_to_csv\u001b[0m\u001b[0;34m(\u001b[0m\u001b[0mpath\u001b[0m\u001b[0;34m,\u001b[0m \u001b[0mwrite_header\u001b[0m\u001b[0;34m=\u001b[0m\u001b[0mwrite_header\u001b[0m\u001b[0;34m)\u001b[0m\u001b[0;34m\u001b[0m\u001b[0;34m\u001b[0m\u001b[0m\n\u001b[0m\u001b[1;32m    276\u001b[0m \u001b[0;34m\u001b[0m\u001b[0m\n\u001b[1;32m    277\u001b[0m \u001b[0;34m\u001b[0m\u001b[0m\n",
      "\u001b[0;32m~/Dropbox/projects/agendawatch/civic-scraper/civic_scraper/asset.py\u001b[0m in \u001b[0;36mappend_to_csv\u001b[0;34m(self, path, write_header)\u001b[0m\n\u001b[1;32m    183\u001b[0m         \u001b[0;31m# Make the dictionary\u001b[0m\u001b[0;34m\u001b[0m\u001b[0;34m\u001b[0m\u001b[0;34m\u001b[0m\u001b[0m\n\u001b[1;32m    184\u001b[0m         metadata_dict = OrderedDict([\n\u001b[0;32m--> 185\u001b[0;31m             \u001b[0;34m(\u001b[0m\u001b[0;34m'place'\u001b[0m\u001b[0;34m,\u001b[0m \u001b[0mself\u001b[0m\u001b[0;34m.\u001b[0m\u001b[0mplace\u001b[0m\u001b[0;34m)\u001b[0m\u001b[0;34m,\u001b[0m\u001b[0;34m\u001b[0m\u001b[0;34m\u001b[0m\u001b[0m\n\u001b[0m\u001b[1;32m    186\u001b[0m             \u001b[0;34m(\u001b[0m\u001b[0;34m'state_or_province'\u001b[0m\u001b[0;34m,\u001b[0m \u001b[0mself\u001b[0m\u001b[0;34m.\u001b[0m\u001b[0mstate_or_province\u001b[0m\u001b[0;34m)\u001b[0m\u001b[0;34m,\u001b[0m\u001b[0;34m\u001b[0m\u001b[0;34m\u001b[0m\u001b[0m\n\u001b[1;32m    187\u001b[0m             \u001b[0;34m(\u001b[0m\u001b[0;34m'meeting_date'\u001b[0m\u001b[0;34m,\u001b[0m \u001b[0mself\u001b[0m\u001b[0;34m.\u001b[0m\u001b[0mmeeting_date\u001b[0m\u001b[0;34m)\u001b[0m\u001b[0;34m,\u001b[0m\u001b[0;34m\u001b[0m\u001b[0;34m\u001b[0m\u001b[0m\n",
      "\u001b[0;31mAttributeError\u001b[0m: 'Asset' object has no attribute 'place'"
     ]
    }
   ],
   "source": [
    "metadata.to_csv(target_path='test_output.csv', appending=False)"
   ]
  },
  {
   "cell_type": "code",
   "execution_count": 8,
   "metadata": {},
   "outputs": [
    {
     "name": "stdout",
     "output_type": "stream",
     "text": [
      "> \u001b[0;32m/Users/chris/Dropbox/projects/agendawatch/civic-scraper/civic_scraper/asset.py\u001b[0m(270)\u001b[0;36mto_csv\u001b[0;34m()\u001b[0m\n",
      "\u001b[0;32m    268 \u001b[0;31m        \u001b[0;32melif\u001b[0m \u001b[0;32mnot\u001b[0m \u001b[0mappending\u001b[0m\u001b[0;34m:\u001b[0m\u001b[0;34m\u001b[0m\u001b[0;34m\u001b[0m\u001b[0m\n",
      "\u001b[0m\u001b[0;32m    269 \u001b[0;31m            \u001b[0;31m# if appending is False, remove whatever's already there\u001b[0m\u001b[0;34m\u001b[0m\u001b[0;34m\u001b[0m\u001b[0;34m\u001b[0m\u001b[0m\n",
      "\u001b[0m\u001b[0;32m--> 270 \u001b[0;31m            \u001b[0mos\u001b[0m\u001b[0;34m.\u001b[0m\u001b[0mremove\u001b[0m\u001b[0;34m(\u001b[0m\u001b[0mpath\u001b[0m\u001b[0;34m)\u001b[0m\u001b[0;34m\u001b[0m\u001b[0;34m\u001b[0m\u001b[0m\n",
      "\u001b[0m\u001b[0;32m    271 \u001b[0;31m            \u001b[0mnew_file\u001b[0m \u001b[0;34m=\u001b[0m \u001b[0;32mTrue\u001b[0m\u001b[0;34m\u001b[0m\u001b[0;34m\u001b[0m\u001b[0m\n",
      "\u001b[0m\u001b[0;32m    272 \u001b[0;31m\u001b[0;34m\u001b[0m\u001b[0m\n",
      "\u001b[0m\n",
      "ipdb> pp path\n",
      "'/Users/chris/Dropbox/projects/agendawatch/civic-scraper/testing'\n",
      "ipdb> q\n"
     ]
    }
   ],
   "source": [
    "%debug"
   ]
  },
  {
   "cell_type": "code",
   "execution_count": 12,
   "metadata": {},
   "outputs": [
    {
     "name": "stdout",
     "output_type": "stream",
     "text": [
      "State or province abbreviation must be exactly two letters.\n",
      "The meeting_date is:  2020-01-14\n",
      "The value of meeting_date must be an object of class datetime.date.\n",
      "The value of meeting_time must be an object of class datetime.time.\n",
      "Cannot initialize Asset object. Invalid input.\n"
     ]
    },
    {
     "data": {
      "text/plain": [
       "<civic_scraper.asset.Asset at 0x7ff1c0439460>"
      ]
     },
     "execution_count": 12,
     "metadata": {},
     "output_type": "execute_result"
    }
   ],
   "source": [
    "from civic_scraper.asset import Asset, AssetList\n",
    "Asset(**metadata.asset_args[0])"
   ]
  },
  {
   "cell_type": "code",
   "execution_count": 19,
   "metadata": {
    "scrolled": false
   },
   "outputs": [
    {
     "name": "stdout",
     "output_type": "stream",
     "text": [
      "State or province abbreviation must be exactly two letters.\n",
      "The meeting_date is:  2020-03-27\n",
      "The value of meeting_date must be an object of class datetime.date.\n",
      "The value of meeting_time must be an object of class datetime.time.\n",
      "Cannot initialize Asset object. Invalid input.\n",
      "State or province abbreviation must be exactly two letters.\n",
      "The meeting_date is:  2020-03-27\n",
      "The value of meeting_date must be an object of class datetime.date.\n",
      "The value of meeting_time must be an object of class datetime.time.\n",
      "Cannot initialize Asset object. Invalid input.\n",
      "State or province abbreviation must be exactly two letters.\n",
      "The meeting_date is:  2020-03-26\n",
      "The value of meeting_date must be an object of class datetime.date.\n",
      "The value of meeting_time must be an object of class datetime.time.\n",
      "Cannot initialize Asset object. Invalid input.\n",
      "State or province abbreviation must be exactly two letters.\n",
      "The meeting_date is:  2020-03-26\n",
      "The value of meeting_date must be an object of class datetime.date.\n",
      "The value of meeting_time must be an object of class datetime.time.\n",
      "Cannot initialize Asset object. Invalid input.\n",
      "State or province abbreviation must be exactly two letters.\n",
      "The meeting_date is:  2020-03-24\n",
      "The value of meeting_date must be an object of class datetime.date.\n",
      "The value of meeting_time must be an object of class datetime.time.\n",
      "Cannot initialize Asset object. Invalid input.\n",
      "State or province abbreviation must be exactly two letters.\n",
      "The meeting_date is:  2020-03-24\n",
      "The value of meeting_date must be an object of class datetime.date.\n",
      "The value of meeting_time must be an object of class datetime.time.\n",
      "Cannot initialize Asset object. Invalid input.\n",
      "State or province abbreviation must be exactly two letters.\n",
      "The meeting_date is:  2020-03-20\n",
      "The value of meeting_date must be an object of class datetime.date.\n",
      "The value of meeting_time must be an object of class datetime.time.\n",
      "Cannot initialize Asset object. Invalid input.\n",
      "State or province abbreviation must be exactly two letters.\n",
      "The meeting_date is:  2020-03-20\n",
      "The value of meeting_date must be an object of class datetime.date.\n",
      "The value of meeting_time must be an object of class datetime.time.\n",
      "Cannot initialize Asset object. Invalid input.\n",
      "State or province abbreviation must be exactly two letters.\n",
      "The meeting_date is:  2020-03-19\n",
      "The value of meeting_date must be an object of class datetime.date.\n",
      "The value of meeting_time must be an object of class datetime.time.\n",
      "Cannot initialize Asset object. Invalid input.\n",
      "State or province abbreviation must be exactly two letters.\n",
      "The meeting_date is:  2020-03-19\n",
      "The value of meeting_date must be an object of class datetime.date.\n",
      "The value of meeting_time must be an object of class datetime.time.\n",
      "Cannot initialize Asset object. Invalid input.\n",
      "State or province abbreviation must be exactly two letters.\n",
      "The meeting_date is:  2020-03-16\n",
      "The value of meeting_date must be an object of class datetime.date.\n",
      "The value of meeting_time must be an object of class datetime.time.\n",
      "Cannot initialize Asset object. Invalid input.\n",
      "State or province abbreviation must be exactly two letters.\n",
      "The meeting_date is:  2020-03-16\n",
      "The value of meeting_date must be an object of class datetime.date.\n",
      "The value of meeting_time must be an object of class datetime.time.\n",
      "Cannot initialize Asset object. Invalid input.\n",
      "State or province abbreviation must be exactly two letters.\n",
      "The meeting_date is:  2020-03-11\n",
      "The value of meeting_date must be an object of class datetime.date.\n",
      "The value of meeting_time must be an object of class datetime.time.\n",
      "Cannot initialize Asset object. Invalid input.\n",
      "State or province abbreviation must be exactly two letters.\n",
      "The meeting_date is:  2020-03-11\n",
      "The value of meeting_date must be an object of class datetime.date.\n",
      "The value of meeting_time must be an object of class datetime.time.\n",
      "Cannot initialize Asset object. Invalid input.\n",
      "State or province abbreviation must be exactly two letters.\n",
      "The meeting_date is:  2020-03-10\n",
      "The value of meeting_date must be an object of class datetime.date.\n",
      "The value of meeting_time must be an object of class datetime.time.\n",
      "Cannot initialize Asset object. Invalid input.\n",
      "State or province abbreviation must be exactly two letters.\n",
      "The meeting_date is:  2020-03-03\n",
      "The value of meeting_date must be an object of class datetime.date.\n",
      "The value of meeting_time must be an object of class datetime.time.\n",
      "Cannot initialize Asset object. Invalid input.\n",
      "State or province abbreviation must be exactly two letters.\n",
      "The meeting_date is:  2020-03-03\n",
      "The value of meeting_date must be an object of class datetime.date.\n",
      "The value of meeting_time must be an object of class datetime.time.\n",
      "Cannot initialize Asset object. Invalid input.\n",
      "State or province abbreviation must be exactly two letters.\n",
      "The meeting_date is:  2020-02-25\n",
      "The value of meeting_date must be an object of class datetime.date.\n",
      "The value of meeting_time must be an object of class datetime.time.\n",
      "Cannot initialize Asset object. Invalid input.\n",
      "State or province abbreviation must be exactly two letters.\n",
      "The meeting_date is:  2020-02-25\n",
      "The value of meeting_date must be an object of class datetime.date.\n",
      "The value of meeting_time must be an object of class datetime.time.\n",
      "Cannot initialize Asset object. Invalid input.\n",
      "State or province abbreviation must be exactly two letters.\n",
      "The meeting_date is:  2020-02-11\n",
      "The value of meeting_date must be an object of class datetime.date.\n",
      "The value of meeting_time must be an object of class datetime.time.\n",
      "Cannot initialize Asset object. Invalid input.\n",
      "State or province abbreviation must be exactly two letters.\n",
      "The meeting_date is:  2020-01-30\n",
      "The value of meeting_date must be an object of class datetime.date.\n",
      "The value of meeting_time must be an object of class datetime.time.\n",
      "Cannot initialize Asset object. Invalid input.\n",
      "State or province abbreviation must be exactly two letters.\n",
      "The meeting_date is:  2020-01-30\n",
      "The value of meeting_date must be an object of class datetime.date.\n",
      "The value of meeting_time must be an object of class datetime.time.\n",
      "Cannot initialize Asset object. Invalid input.\n",
      "State or province abbreviation must be exactly two letters.\n",
      "The meeting_date is:  2020-01-28\n",
      "The value of meeting_date must be an object of class datetime.date.\n",
      "The value of meeting_time must be an object of class datetime.time.\n",
      "Cannot initialize Asset object. Invalid input.\n",
      "State or province abbreviation must be exactly two letters.\n",
      "The meeting_date is:  2020-01-28\n",
      "The value of meeting_date must be an object of class datetime.date.\n",
      "The value of meeting_time must be an object of class datetime.time.\n",
      "Cannot initialize Asset object. Invalid input.\n",
      "State or province abbreviation must be exactly two letters.\n",
      "The meeting_date is:  2020-01-27\n",
      "The value of meeting_date must be an object of class datetime.date.\n",
      "The value of meeting_time must be an object of class datetime.time.\n",
      "Cannot initialize Asset object. Invalid input.\n",
      "State or province abbreviation must be exactly two letters.\n",
      "The meeting_date is:  2020-01-27\n",
      "The value of meeting_date must be an object of class datetime.date.\n",
      "The value of meeting_time must be an object of class datetime.time.\n",
      "Cannot initialize Asset object. Invalid input.\n",
      "State or province abbreviation must be exactly two letters.\n",
      "The meeting_date is:  2020-01-24\n",
      "The value of meeting_date must be an object of class datetime.date.\n",
      "The value of meeting_time must be an object of class datetime.time.\n",
      "Cannot initialize Asset object. Invalid input.\n",
      "State or province abbreviation must be exactly two letters.\n",
      "The meeting_date is:  2020-01-14\n",
      "The value of meeting_date must be an object of class datetime.date.\n",
      "The value of meeting_time must be an object of class datetime.time.\n",
      "Cannot initialize Asset object. Invalid input.\n",
      "State or province abbreviation must be exactly two letters.\n",
      "The meeting_date is:  2020-01-14\n",
      "The value of meeting_date must be an object of class datetime.date.\n",
      "The value of meeting_time must be an object of class datetime.time.\n",
      "Cannot initialize Asset object. Invalid input.\n",
      "State or province abbreviation must be exactly two letters.\n",
      "The meeting_date is:  2020-03-11\n",
      "The value of meeting_date must be an object of class datetime.date.\n",
      "The value of meeting_time must be an object of class datetime.time.\n",
      "Cannot initialize Asset object. Invalid input.\n",
      "State or province abbreviation must be exactly two letters.\n",
      "The meeting_date is:  2020-02-12\n",
      "The value of meeting_date must be an object of class datetime.date.\n",
      "The value of meeting_time must be an object of class datetime.time.\n",
      "Cannot initialize Asset object. Invalid input.\n",
      "State or province abbreviation must be exactly two letters.\n",
      "The meeting_date is:  2020-01-08\n",
      "The value of meeting_date must be an object of class datetime.date.\n",
      "The value of meeting_time must be an object of class datetime.time.\n",
      "Cannot initialize Asset object. Invalid input.\n",
      "State or province abbreviation must be exactly two letters.\n",
      "The meeting_date is:  2020-01-08\n",
      "The value of meeting_date must be an object of class datetime.date.\n",
      "The value of meeting_time must be an object of class datetime.time.\n",
      "Cannot initialize Asset object. Invalid input.\n",
      "State or province abbreviation must be exactly two letters.\n",
      "The meeting_date is:  2020-03-18\n",
      "The value of meeting_date must be an object of class datetime.date.\n",
      "The value of meeting_time must be an object of class datetime.time.\n",
      "Cannot initialize Asset object. Invalid input.\n",
      "State or province abbreviation must be exactly two letters.\n",
      "The meeting_date is:  2020-02-19\n",
      "The value of meeting_date must be an object of class datetime.date.\n",
      "The value of meeting_time must be an object of class datetime.time.\n",
      "Cannot initialize Asset object. Invalid input.\n",
      "State or province abbreviation must be exactly two letters.\n",
      "The meeting_date is:  2020-01-27\n",
      "The value of meeting_date must be an object of class datetime.date.\n",
      "The value of meeting_time must be an object of class datetime.time.\n",
      "Cannot initialize Asset object. Invalid input.\n",
      "State or province abbreviation must be exactly two letters.\n",
      "The meeting_date is:  2020-01-27\n",
      "The value of meeting_date must be an object of class datetime.date.\n",
      "The value of meeting_time must be an object of class datetime.time.\n",
      "Cannot initialize Asset object. Invalid input.\n",
      "State or province abbreviation must be exactly two letters.\n",
      "The meeting_date is:  2020-01-15\n",
      "The value of meeting_date must be an object of class datetime.date.\n",
      "The value of meeting_time must be an object of class datetime.time.\n",
      "Cannot initialize Asset object. Invalid input.\n",
      "State or province abbreviation must be exactly two letters.\n",
      "The meeting_date is:  2020-02-04\n",
      "The value of meeting_date must be an object of class datetime.date.\n",
      "The value of meeting_time must be an object of class datetime.time.\n",
      "Cannot initialize Asset object. Invalid input.\n",
      "State or province abbreviation must be exactly two letters.\n",
      "The meeting_date is:  2020-01-15\n",
      "The value of meeting_date must be an object of class datetime.date.\n",
      "The value of meeting_time must be an object of class datetime.time.\n",
      "Cannot initialize Asset object. Invalid input.\n",
      "State or province abbreviation must be exactly two letters.\n",
      "The meeting_date is:  2020-03-04\n",
      "The value of meeting_date must be an object of class datetime.date.\n",
      "The value of meeting_time must be an object of class datetime.time.\n",
      "Cannot initialize Asset object. Invalid input.\n",
      "State or province abbreviation must be exactly two letters.\n",
      "The meeting_date is:  2020-02-05\n",
      "The value of meeting_date must be an object of class datetime.date.\n",
      "The value of meeting_time must be an object of class datetime.time.\n",
      "Cannot initialize Asset object. Invalid input.\n",
      "State or province abbreviation must be exactly two letters.\n",
      "The meeting_date is:  2020-02-05\n",
      "The value of meeting_date must be an object of class datetime.date.\n",
      "The value of meeting_time must be an object of class datetime.time.\n",
      "Cannot initialize Asset object. Invalid input.\n",
      "State or province abbreviation must be exactly two letters.\n",
      "The meeting_date is:  2020-01-08\n",
      "The value of meeting_date must be an object of class datetime.date.\n",
      "The value of meeting_time must be an object of class datetime.time.\n",
      "Cannot initialize Asset object. Invalid input.\n",
      "State or province abbreviation must be exactly two letters.\n",
      "The meeting_date is:  2020-01-08\n",
      "The value of meeting_date must be an object of class datetime.date.\n",
      "The value of meeting_time must be an object of class datetime.time.\n",
      "Cannot initialize Asset object. Invalid input.\n",
      "State or province abbreviation must be exactly two letters.\n",
      "The meeting_date is:  2020-01-01\n",
      "The value of meeting_date must be an object of class datetime.date.\n",
      "The value of meeting_time must be an object of class datetime.time.\n",
      "Cannot initialize Asset object. Invalid input.\n",
      "State or province abbreviation must be exactly two letters.\n",
      "The meeting_date is:  2020-03-16\n",
      "The value of meeting_date must be an object of class datetime.date.\n",
      "The value of meeting_time must be an object of class datetime.time.\n",
      "Cannot initialize Asset object. Invalid input.\n",
      "State or province abbreviation must be exactly two letters.\n",
      "The meeting_date is:  2020-02-24\n",
      "The value of meeting_date must be an object of class datetime.date.\n",
      "The value of meeting_time must be an object of class datetime.time.\n",
      "Cannot initialize Asset object. Invalid input.\n",
      "State or province abbreviation must be exactly two letters.\n",
      "The meeting_date is:  2020-02-24\n",
      "The value of meeting_date must be an object of class datetime.date.\n",
      "The value of meeting_time must be an object of class datetime.time.\n",
      "Cannot initialize Asset object. Invalid input.\n",
      "State or province abbreviation must be exactly two letters.\n",
      "The meeting_date is:  2020-01-27\n",
      "The value of meeting_date must be an object of class datetime.date.\n",
      "The value of meeting_time must be an object of class datetime.time.\n",
      "Cannot initialize Asset object. Invalid input.\n",
      "State or province abbreviation must be exactly two letters.\n",
      "The meeting_date is:  2020-03-04\n",
      "The value of meeting_date must be an object of class datetime.date.\n",
      "The value of meeting_time must be an object of class datetime.time.\n",
      "Cannot initialize Asset object. Invalid input.\n",
      "State or province abbreviation must be exactly two letters.\n",
      "The meeting_date is:  2020-02-26\n",
      "The value of meeting_date must be an object of class datetime.date.\n",
      "The value of meeting_time must be an object of class datetime.time.\n",
      "Cannot initialize Asset object. Invalid input.\n",
      "State or province abbreviation must be exactly two letters.\n",
      "The meeting_date is:  2020-01-22\n",
      "The value of meeting_date must be an object of class datetime.date.\n",
      "The value of meeting_time must be an object of class datetime.time.\n",
      "Cannot initialize Asset object. Invalid input.\n",
      "State or province abbreviation must be exactly two letters.\n",
      "The meeting_date is:  2020-01-22\n",
      "The value of meeting_date must be an object of class datetime.date.\n",
      "The value of meeting_time must be an object of class datetime.time.\n",
      "Cannot initialize Asset object. Invalid input.\n",
      "State or province abbreviation must be exactly two letters.\n",
      "The meeting_date is:  2020-03-23\n",
      "The value of meeting_date must be an object of class datetime.date.\n",
      "The value of meeting_time must be an object of class datetime.time.\n",
      "Cannot initialize Asset object. Invalid input.\n",
      "State or province abbreviation must be exactly two letters.\n",
      "The meeting_date is:  2020-03-23\n",
      "The value of meeting_date must be an object of class datetime.date.\n",
      "The value of meeting_time must be an object of class datetime.time.\n",
      "Cannot initialize Asset object. Invalid input.\n",
      "State or province abbreviation must be exactly two letters.\n",
      "The meeting_date is:  2020-03-09\n",
      "The value of meeting_date must be an object of class datetime.date.\n",
      "The value of meeting_time must be an object of class datetime.time.\n",
      "Cannot initialize Asset object. Invalid input.\n",
      "State or province abbreviation must be exactly two letters.\n",
      "The meeting_date is:  2020-03-09\n",
      "The value of meeting_date must be an object of class datetime.date.\n",
      "The value of meeting_time must be an object of class datetime.time.\n",
      "Cannot initialize Asset object. Invalid input.\n",
      "State or province abbreviation must be exactly two letters.\n",
      "The meeting_date is:  2020-02-24\n",
      "The value of meeting_date must be an object of class datetime.date.\n",
      "The value of meeting_time must be an object of class datetime.time.\n",
      "Cannot initialize Asset object. Invalid input.\n",
      "State or province abbreviation must be exactly two letters.\n",
      "The meeting_date is:  2020-02-24\n",
      "The value of meeting_date must be an object of class datetime.date.\n",
      "The value of meeting_time must be an object of class datetime.time.\n",
      "Cannot initialize Asset object. Invalid input.\n",
      "State or province abbreviation must be exactly two letters.\n",
      "The meeting_date is:  2020-02-10\n",
      "The value of meeting_date must be an object of class datetime.date.\n",
      "The value of meeting_time must be an object of class datetime.time.\n",
      "Cannot initialize Asset object. Invalid input.\n",
      "State or province abbreviation must be exactly two letters.\n",
      "The meeting_date is:  2020-01-27\n",
      "The value of meeting_date must be an object of class datetime.date.\n",
      "The value of meeting_time must be an object of class datetime.time.\n",
      "Cannot initialize Asset object. Invalid input.\n",
      "State or province abbreviation must be exactly two letters.\n",
      "The meeting_date is:  2020-01-13\n",
      "The value of meeting_date must be an object of class datetime.date.\n",
      "The value of meeting_time must be an object of class datetime.time.\n",
      "Cannot initialize Asset object. Invalid input.\n",
      "State or province abbreviation must be exactly two letters.\n",
      "The meeting_date is:  2020-01-13\n",
      "The value of meeting_date must be an object of class datetime.date.\n",
      "The value of meeting_time must be an object of class datetime.time.\n",
      "Cannot initialize Asset object. Invalid input.\n",
      "State or province abbreviation must be exactly two letters.\n",
      "The meeting_date is:  2020-02-26\n",
      "The value of meeting_date must be an object of class datetime.date.\n",
      "The value of meeting_time must be an object of class datetime.time.\n",
      "Cannot initialize Asset object. Invalid input.\n",
      "State or province abbreviation must be exactly two letters.\n",
      "The meeting_date is:  2020-02-19\n",
      "The value of meeting_date must be an object of class datetime.date.\n",
      "The value of meeting_time must be an object of class datetime.time.\n",
      "Cannot initialize Asset object. Invalid input.\n"
     ]
    },
    {
     "data": {
      "text/plain": [
       "<civic_scraper.asset.AssetList at 0x7f8cc824ddf0>"
      ]
     },
     "execution_count": 19,
     "metadata": {},
     "output_type": "execute_result"
    }
   ],
   "source": [
    "AssetList(metadata.asset_args)"
   ]
  },
  {
   "cell_type": "code",
   "execution_count": 12,
   "metadata": {},
   "outputs": [
    {
     "data": {
      "text/plain": [
       "['__module__',\n",
       " '__init__',\n",
       " 'download',\n",
       " 'append_to_csv',\n",
       " '__dict__',\n",
       " '__weakref__',\n",
       " '__doc__',\n",
       " '__repr__',\n",
       " '__hash__',\n",
       " '__str__',\n",
       " '__getattribute__',\n",
       " '__setattr__',\n",
       " '__delattr__',\n",
       " '__lt__',\n",
       " '__le__',\n",
       " '__eq__',\n",
       " '__ne__',\n",
       " '__gt__',\n",
       " '__ge__',\n",
       " '__new__',\n",
       " '__reduce_ex__',\n",
       " '__reduce__',\n",
       " '__subclasshook__',\n",
       " '__init_subclass__',\n",
       " '__format__',\n",
       " '__sizeof__',\n",
       " '__dir__',\n",
       " '__class__']"
      ]
     },
     "execution_count": 12,
     "metadata": {},
     "output_type": "execute_result"
    }
   ],
   "source": [
    "metadata.assets[0].__dir__()"
   ]
  },
  {
   "cell_type": "code",
   "execution_count": 5,
   "metadata": {},
   "outputs": [
    {
     "ename": "AttributeError",
     "evalue": "'Asset' object has no attribute 'scraped_by'",
     "output_type": "error",
     "traceback": [
      "\u001b[0;31m---------------------------------------------------------------------------\u001b[0m",
      "\u001b[0;31mAttributeError\u001b[0m                            Traceback (most recent call last)",
      "\u001b[0;32m<ipython-input-5-f881c3ad3ef9>\u001b[0m in \u001b[0;36m<module>\u001b[0;34m\u001b[0m\n\u001b[0;32m----> 1\u001b[0;31m \u001b[0mmetadata\u001b[0m\u001b[0;34m.\u001b[0m\u001b[0mto_csv\u001b[0m\u001b[0;34m(\u001b[0m\u001b[0;34m'test_output.csv'\u001b[0m\u001b[0;34m)\u001b[0m\u001b[0;34m\u001b[0m\u001b[0;34m\u001b[0m\u001b[0m\n\u001b[0m",
      "\u001b[0;32m~/Dropbox/projects/agendawatch/civic-scraper/civic_scraper/asset.py\u001b[0m in \u001b[0;36mto_csv\u001b[0;34m(self, path)\u001b[0m\n\u001b[1;32m    237\u001b[0m         \u001b[0mpath\u001b[0m \u001b[0;34m=\u001b[0m \u001b[0mos\u001b[0m\u001b[0;34m.\u001b[0m\u001b[0mpath\u001b[0m\u001b[0;34m.\u001b[0m\u001b[0mabspath\u001b[0m\u001b[0;34m(\u001b[0m\u001b[0mpath\u001b[0m\u001b[0;34m)\u001b[0m\u001b[0;34m\u001b[0m\u001b[0;34m\u001b[0m\u001b[0m\n\u001b[1;32m    238\u001b[0m         default_fname = '-'.join([\n\u001b[0;32m--> 239\u001b[0;31m             \u001b[0mself\u001b[0m\u001b[0;34m.\u001b[0m\u001b[0massets\u001b[0m\u001b[0;34m[\u001b[0m\u001b[0;36m0\u001b[0m\u001b[0;34m]\u001b[0m\u001b[0;34m.\u001b[0m\u001b[0mscraped_by\u001b[0m\u001b[0;34m,\u001b[0m\u001b[0;34m\u001b[0m\u001b[0;34m\u001b[0m\u001b[0m\n\u001b[0m\u001b[1;32m    240\u001b[0m             \u001b[0mself\u001b[0m\u001b[0;34m.\u001b[0m\u001b[0massets\u001b[0m\u001b[0;34m[\u001b[0m\u001b[0;36m0\u001b[0m\u001b[0;34m]\u001b[0m\u001b[0;34m.\u001b[0m\u001b[0mplace\u001b[0m\u001b[0;34m,\u001b[0m\u001b[0;34m\u001b[0m\u001b[0;34m\u001b[0m\u001b[0m\n\u001b[1;32m    241\u001b[0m             \u001b[0mself\u001b[0m\u001b[0;34m.\u001b[0m\u001b[0massets\u001b[0m\u001b[0;34m[\u001b[0m\u001b[0;36m0\u001b[0m\u001b[0;34m]\u001b[0m\u001b[0;34m.\u001b[0m\u001b[0mstate_or_province\u001b[0m\u001b[0;34m,\u001b[0m\u001b[0;34m\u001b[0m\u001b[0;34m\u001b[0m\u001b[0m\n",
      "\u001b[0;31mAttributeError\u001b[0m: 'Asset' object has no attribute 'scraped_by'"
     ]
    }
   ],
   "source": [
    "metadata.to_csv('test_output.csv')"
   ]
  },
  {
   "cell_type": "code",
   "execution_count": 16,
   "metadata": {},
   "outputs": [
    {
     "data": {
      "text/plain": [
       "('/Users/chris/Dropbox/projects/agendawatch/civic-scraper/testing', 'file.csv')"
      ]
     },
     "execution_count": 16,
     "metadata": {},
     "output_type": "execute_result"
    }
   ],
   "source": [
    "import os\n",
    "path = os.getcwd()+'/file.csv'\n",
    "os.path.split(path)"
   ]
  },
  {
   "cell_type": "code",
   "execution_count": 3,
   "metadata": {},
   "outputs": [
    {
     "ename": "TypeError",
     "evalue": "run_scraper() got an unexpected keyword argument 'url'",
     "output_type": "error",
     "traceback": [
      "\u001b[0;31m---------------------------------------------------------------------------\u001b[0m",
      "\u001b[0;31mTypeError\u001b[0m                                 Traceback (most recent call last)",
      "\u001b[0;32m<ipython-input-3-a1955e82360e>\u001b[0m in \u001b[0;36m<module>\u001b[0;34m\u001b[0m\n\u001b[1;32m      3\u001b[0m     \u001b[0;34m'url'\u001b[0m\u001b[0;34m:\u001b[0m \u001b[0;34m'http://pa-westchester2.civicplus.com/AgendaCenter'\u001b[0m\u001b[0;34m,\u001b[0m\u001b[0;34m\u001b[0m\u001b[0;34m\u001b[0m\u001b[0m\n\u001b[1;32m      4\u001b[0m }\n\u001b[0;32m----> 5\u001b[0;31m \u001b[0mrun_scraper\u001b[0m\u001b[0;34m(\u001b[0m\u001b[0;34m**\u001b[0m\u001b[0mrun_args\u001b[0m\u001b[0;34m)\u001b[0m\u001b[0;34m\u001b[0m\u001b[0;34m\u001b[0m\u001b[0m\n\u001b[0m",
      "\u001b[0;31mTypeError\u001b[0m: run_scraper() got an unexpected keyword argument 'url'"
     ]
    }
   ],
   "source": [
    "run_args = {\n",
    "#     'scraper_type': 'civicplus',\n",
    "    'url': 'http://pa-westchester2.civicplus.com/AgendaCenter',\n",
    "}\n",
    "run_scraper(**run_args)"
   ]
  },
  {
   "cell_type": "code",
   "execution_count": 18,
   "metadata": {},
   "outputs": [
    {
     "data": {
      "text/plain": [
       "'.csv'"
      ]
     },
     "execution_count": 18,
     "metadata": {},
     "output_type": "execute_result"
    }
   ],
   "source": [
    "\n",
    "'.csv'[-4:]\n"
   ]
  },
  {
   "cell_type": "code",
   "execution_count": null,
   "metadata": {},
   "outputs": [],
   "source": []
  }
 ],
 "metadata": {
  "kernelspec": {
   "display_name": "civic-scraper",
   "language": "python",
   "name": "civic-scraper"
  },
  "language_info": {
   "codemirror_mode": {
    "name": "ipython",
    "version": 3
   },
   "file_extension": ".py",
   "mimetype": "text/x-python",
   "name": "python",
   "nbconvert_exporter": "python",
   "pygments_lexer": "ipython3",
   "version": "3.8.3"
  }
 },
 "nbformat": 4,
 "nbformat_minor": 2
}
